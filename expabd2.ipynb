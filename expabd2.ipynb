{
 "cells": [
  {
   "cell_type": "markdown",
   "id": "2dc9d328",
   "metadata": {},
   "source": [
    "1.Develop a python program for finding the absolute value of a given number. This is always measured as positive number. This number is the distance of given number from the 0(Zero). The input value may be integer, float or complex number in Python. The absolute value of given number may be integer or float.\n"
   ]
  },
  {
   "cell_type": "code",
   "execution_count": null,
   "id": "705f4f3e",
   "metadata": {},
   "outputs": [
    {
     "name": "stdout",
     "output_type": "stream",
     "text": [
      "The Absolute of a given number is : 564\n"
     ]
    }
   ],
   "source": [
    "choice=int(input(\"Enter '1' for Integer '2' for Float '3' for Complex : \"))\n",
    "if choice==1:\n",
    "    n=int(input(\"Enter an Integer value : \"))\n",
    "elif choice==2:\n",
    "    n=float(input(\"Enter a float value : \"))\n",
    "elif choice==3:\n",
    "    n=complex(input(\"Enter a Complex value : \"))\n",
    "else:\n",
    "    print(\"Invalid Input...\")\n",
    "res=abs(n)\n",
    "if 1<=choice<=3:\n",
    "    print(f\"The Absolute of a given number is : {res}\")"
   ]
  },
  {
   "cell_type": "markdown",
   "id": "c4d6d3e7",
   "metadata": {},
   "source": [
    "2.Calculate the Total selling price after levying the GST (Goods and Service Tax) as CGST and SGST on sale. CGST (Central Govt. GST), SGST (State Govt. GST) .\n",
    "        Sale amount \t\tCGST Rate \t\tSGST Rate\n",
    "         0-50000\t\t5%\t\t\t5%\n",
    "         Above 50000\t\t18%\t\t\t18%\n"
   ]
  },
  {
   "cell_type": "code",
   "execution_count": 26,
   "id": "0e66fc07",
   "metadata": {},
   "outputs": [
    {
     "name": "stdout",
     "output_type": "stream",
     "text": [
      "---------------Details---------------\n",
      " Sale Amount                  : 1500.00Rs \n",
      " CGST                         : 75.00Rs \n",
      " SGST                         : 75.00Rs\n",
      "Total GST                     : 150.00Rs\n",
      "Total Selling Price after GST : 1650.00Rs\n"
     ]
    }
   ],
   "source": [
    "sell_price=float(input(\"Enter the Selling Price : \"))\n",
    "if sell_price<0:\n",
    "    print(\"Invalid Input!\")\n",
    "elif sell_price<=50000:\n",
    "    cgst=(sell_price)*(5/100) \n",
    "    sgst=(sell_price)*(5/100)\n",
    "else:\n",
    "    cgst=(sell_price)*(18/100) \n",
    "    sgst=(sell_price)*(18/100)\n",
    "gst=cgst+sgst\n",
    "res=sell_price+gst\n",
    "print(\"---------------Details---------------\")\n",
    "print(f\" Sale Amount                  : {sell_price:.2f}Rs \")\n",
    "print(f\" CGST                         : {cgst:.2f}Rs \")\n",
    "print(f\" SGST                         : {sgst:.2f}Rs\") \n",
    "print(f\"Total GST                     : {gst:.2f}Rs\")\n",
    "print(f\"Total Selling Price after GST : {res:.2f}Rs\")"
   ]
  },
  {
   "cell_type": "markdown",
   "id": "ae35cd43",
   "metadata": {},
   "source": [
    "3.Write a Python program to construct the following pattern, using a nested for loop.\n",
    "*\n",
    "* *\n",
    "* * *\n",
    "* * * *\n",
    "* * * * *\n",
    "* * * *\n",
    "* * *\n",
    "* *\n",
    "*"
   ]
  },
  {
   "cell_type": "code",
   "execution_count": 52,
   "id": "61b7dbe7",
   "metadata": {},
   "outputs": [
    {
     "name": "stdout",
     "output_type": "stream",
     "text": [
      "* \n",
      "* * \n",
      "* * * \n",
      "* * * * \n",
      "* * * * * \n",
      "* * * * \n",
      "* * * \n",
      "* * \n",
      "* \n"
     ]
    }
   ],
   "source": [
    "n=5\n",
    "for i in range(1,n+1):\n",
    "    for j in range(1,i+1):\n",
    "        print(\"* \",end=\"\")\n",
    "    print()\n",
    "for i in range(1,n):\n",
    "    for j in range(n,i,-1):\n",
    "        print(\"* \",end=\"\")\n",
    "    print()"
   ]
  },
  {
   "cell_type": "markdown",
   "id": "70a545ad",
   "metadata": {},
   "source": [
    "4.Write a Python program to guess a number between 1 and 9.\n",
    "Note: The User is prompted to enter a guess. If the user guesses wrong, then the prompt appears again until the guess is correct. On a successful guess, the user will get a \"Well guessed!\" message, and the program will exit.\n"
   ]
  },
  {
   "cell_type": "code",
   "execution_count": 59,
   "id": "8f2dd33d",
   "metadata": {},
   "outputs": [
    {
     "name": "stdout",
     "output_type": "stream",
     "text": [
      "Try Again...\n",
      "Try Again...\n",
      "Try Again...\n",
      "Well Guessed...\n"
     ]
    }
   ],
   "source": [
    "import random as r\n",
    "i=r.randint(1,9)\n",
    "while i:\n",
    "    n=int(input(\"Enter a number : \"))    \n",
    "    if n==i:\n",
    "        print(\"Well Guessed...\")\n",
    "        break\n",
    "    else:\n",
    "        print(\"Try Again...\")"
   ]
  },
  {
   "cell_type": "markdown",
   "id": "4808d957",
   "metadata": {},
   "source": [
    "5.You have two streaming subscriptions and want to find out how much you spend each month and how much you could save if you switch to paying annually. Each subscription has a monthly cost and offers a discounted annual rate.\n",
    "Write a Python program to calculate the total monthly cost for both subscriptions, the total annual cost if you continue paying monthly, and compare this with the yearly rates you would pay if you switch to annual payments. Finally, choose the yearly payment option to see how much you could save.\n",
    "       Test Case:\n",
    "Input:\n",
    "Service 1 = $10/month\n",
    "Service 2 = $12/month\n",
    "Annual Discount for Service 1 = $100\n",
    "Annual Discount for Service 2 = $120\n",
    "Expected Output:\n",
    "Monthly Total: $22.00\n",
    "Total Annual Cost without Discount: $264.00\n",
    "Total Annual Discounted Cost: $220.00\n",
    "Total Savings: $44.00\n"
   ]
  },
  {
   "cell_type": "code",
   "execution_count": 67,
   "id": "545b16cc",
   "metadata": {},
   "outputs": [
    {
     "name": "stdout",
     "output_type": "stream",
     "text": [
      "Monthly Total                      : $22.00\n",
      "Total Annual Cost without Discount : $264.00\n",
      "Total Annual Discounted Cost       : $220.00\n",
      "Total Savings                      : $44.00\n"
     ]
    }
   ],
   "source": [
    "serv_1=10\n",
    "serv_2=12\n",
    "ann_dis_1=100\n",
    "ann_dis_2=120\n",
    "mon_tot=serv_1+serv_2\n",
    "tot_ann_cost=mon_tot*12 #monthly\n",
    "ann_dis=ann_dis_1+ann_dis_2 #annually\n",
    "tot_savings=tot_ann_cost-ann_dis\n",
    "print(f\"Monthly Total                      : ${mon_tot:.2f}\")\n",
    "print(f\"Total Annual Cost without Discount : ${tot_ann_cost:.2f}\")\n",
    "print(f\"Total Annual Discounted Cost       : ${ann_dis:.2f}\")\n",
    "print(f\"Total Savings                      : ${tot_savings:.2f}\")"
   ]
  },
  {
   "cell_type": "markdown",
   "id": "2a6a0220",
   "metadata": {},
   "source": [
    "6.Write a Python program that iterates through integers from 1 to 50. For each multiple of three, print \"Fizz\" instead of the number; for each multiple of five, print \"Buzz\". For numbers that are multiples of both three and five, print \"FizzBuzz\"."
   ]
  },
  {
   "cell_type": "code",
   "execution_count": 71,
   "id": "ae1f34d6",
   "metadata": {},
   "outputs": [
    {
     "name": "stdout",
     "output_type": "stream",
     "text": [
      "1\n",
      "2\n",
      "Fizz\n",
      "4\n",
      "Buzz\n",
      "Fizz\n",
      "7\n",
      "8\n",
      "Fizz\n",
      "Buzz\n",
      "11\n",
      "Fizz\n",
      "13\n",
      "14\n",
      "FizzBuzz\n",
      "16\n",
      "17\n",
      "Fizz\n",
      "19\n",
      "Buzz\n",
      "Fizz\n",
      "22\n",
      "23\n",
      "Fizz\n",
      "Buzz\n",
      "26\n",
      "Fizz\n",
      "28\n",
      "29\n",
      "FizzBuzz\n",
      "31\n",
      "32\n",
      "Fizz\n",
      "34\n",
      "Buzz\n",
      "Fizz\n",
      "37\n",
      "38\n",
      "Fizz\n",
      "Buzz\n",
      "41\n",
      "Fizz\n",
      "43\n",
      "44\n",
      "FizzBuzz\n",
      "46\n",
      "47\n",
      "Fizz\n",
      "49\n",
      "Buzz\n"
     ]
    }
   ],
   "source": [
    "for n in range(1,51):\n",
    "    if n%3==0 and n%5==0:\n",
    "        print(\"FizzBuzz\")\n",
    "    elif n%3==0:\n",
    "        print(\"Fizz\")\n",
    "    elif n%5==0:\n",
    "        print(\"Buzz\")\n",
    "    else:\n",
    "        print(n)"
   ]
  },
  {
   "cell_type": "markdown",
   "id": "88e27b90",
   "metadata": {},
   "source": [
    "7.Write a Python program that takes two digits, m (row) and n (column) as input and generates a two-dimensional array. The element value in the i-th row and j-th column of the array should be i*j.\n",
    "Note :\n",
    "i = 0,1.., m-1\n",
    "j = 0,1, n-1.\n",
    "Test Data : Rows = 3, Columns = 4\n",
    "Expected Result : [[0, 0, 0, 0], [0, 1, 2, 3], [0, 2, 4, 6]]\n"
   ]
  },
  {
   "cell_type": "code",
   "execution_count": 82,
   "id": "8ccf047d",
   "metadata": {},
   "outputs": [
    {
     "name": "stdout",
     "output_type": "stream",
     "text": [
      "[[0, 0, 0, 0], [0, 1, 2, 3], [0, 2, 4, 6]]\n"
     ]
    }
   ],
   "source": [
    "m=int(input(\"Enter the number of rows : \"))\n",
    "n=int(input(\"Enter the number of columns :\"))\n",
    "lst=[[i*j for j in range(n)] for i in range(m)]\n",
    "print(lst)"
   ]
  },
  {
   "cell_type": "markdown",
   "id": "37382b8d",
   "metadata": {},
   "source": [
    "8.Write  a Python program for Grade Classification\n",
    "Scenario: A school system classifies grades as follows:\n",
    "A (90 and above)\n",
    "B (70 to 89)\n",
    "C (50 to 69)\n",
    "D (below 50)\n",
    "Question:  What grade will be assigned to a student who scores 85?\n",
    "If the score is 92, what grade will the program output\n"
   ]
  },
  {
   "cell_type": "code",
   "execution_count": 105,
   "id": "41c6bf3e",
   "metadata": {},
   "outputs": [
    {
     "name": "stdout",
     "output_type": "stream",
     "text": [
      "Grade for the Score 92 : A\n"
     ]
    }
   ],
   "source": [
    "score=int(input(\"Enter your Score : \"))\n",
    "if score>=90:\n",
    "    grade = \"A\"\n",
    "elif 70<=score<=89:\n",
    "    grade = \"B\"\n",
    "elif 50<=score<=69:\n",
    "    grade = \"C\"\n",
    "else:\n",
    "    grade = \"D\"\n",
    "print(f\"Grade for the Score {score} : {grade}\")"
   ]
  },
  {
   "cell_type": "markdown",
   "id": "4eac2250",
   "metadata": {},
   "source": [
    "9.Write a program that prints the multiplication table of a user-entered number up to 10.\n"
   ]
  },
  {
   "cell_type": "code",
   "execution_count": 102,
   "id": "0ad6a115",
   "metadata": {},
   "outputs": [
    {
     "name": "stdout",
     "output_type": "stream",
     "text": [
      "Multiplication Table for 8 : \n",
      "1 x 8 = 8\n",
      "2 x 8 = 16\n",
      "3 x 8 = 24\n",
      "4 x 8 = 32\n",
      "5 x 8 = 40\n",
      "6 x 8 = 48\n",
      "7 x 8 = 56\n",
      "8 x 8 = 64\n",
      "9 x 8 = 72\n",
      "10 x 8 = 80\n"
     ]
    }
   ],
   "source": [
    "m=int(input(\"Enter a number : \"))\n",
    "print(f\"Multiplication Table for {m} : \")\n",
    "if m<0:\n",
    "    print(\"Enter a positive number...\")\n",
    "elif m<=10:\n",
    "    for i in range(1,11):\n",
    "        print(f\"{i} x {m} = {m*i}\")\n",
    "else:\n",
    "    print(\"Enter a number within 10!\")  "
   ]
  },
  {
   "cell_type": "markdown",
   "id": "816c322e",
   "metadata": {},
   "source": [
    "10.Write a Python program to check the validity of passwords input by users.\n",
    "Validation :\n",
    "At least 1 letter between [a-z] and 1 letter between [A-Z].\n",
    "At least 1 number between [0-9].\n",
    "At least 1 character from [$#@].\n",
    "Minimum length 6 characters.\n",
    "Maximum length 16 characters.\n",
    "\n",
    "\n"
   ]
  },
  {
   "cell_type": "code",
   "execution_count": 124,
   "id": "9763e6d5",
   "metadata": {},
   "outputs": [
    {
     "name": "stdout",
     "output_type": "stream",
     "text": [
      "Valid Password\n"
     ]
    }
   ],
   "source": [
    "def pass_checker(password):\n",
    "    if len(password)<6 or len(password)>16:\n",
    "        return \"Invalid Password\"\n",
    "    else:\n",
    "        upper=False\n",
    "        lower=False\n",
    "        digit=False\n",
    "        special=False\n",
    "        for i in password:\n",
    "            if i.isupper():\n",
    "                upper=True\n",
    "            elif i.islower():\n",
    "                lower=True\n",
    "            elif i.isdigit():\n",
    "                digit=True\n",
    "            elif i in \"#$@\":\n",
    "                special=True\n",
    "        if upper and lower and digit and special:\n",
    "            return \"Valid Password\" \n",
    "        else:\n",
    "            return \"Invalid Password\"\n",
    "password=input(\"Enter a Strong Password : \")\n",
    "print(pass_checker(password))"
   ]
  }
 ],
 "metadata": {
  "kernelspec": {
   "display_name": "Python 3",
   "language": "python",
   "name": "python3"
  },
  "language_info": {
   "codemirror_mode": {
    "name": "ipython",
    "version": 3
   },
   "file_extension": ".py",
   "mimetype": "text/x-python",
   "name": "python",
   "nbconvert_exporter": "python",
   "pygments_lexer": "ipython3",
   "version": "3.13.2"
  }
 },
 "nbformat": 4,
 "nbformat_minor": 5
}
