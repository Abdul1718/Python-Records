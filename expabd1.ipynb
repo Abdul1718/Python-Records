{
 "cells": [
  {
   "cell_type": "markdown",
   "id": "aa3ee80c",
   "metadata": {},
   "source": [
    "1.Write a program to calculate the area of a triangle using Heron’s formula.(Hint: Heron’s formula is given as: area = sqrt(S*(S–a)*(S–b)*(S–c)))"
   ]
  },
  {
   "cell_type": "code",
   "execution_count": null,
   "id": "19346260",
   "metadata": {},
   "outputs": [
    {
     "name": "stdout",
     "output_type": "stream",
     "text": [
      "The Area of a Triangle : 2.90 square units\n"
     ]
    }
   ],
   "source": [
    "import math\n",
    "a=int(input(\"Enter the value of a : \"))\n",
    "b=int(input(\"Enter the value of b : \"))\n",
    "c=int(input(\"Enter the value of c : \"))\n",
    "S=(a+b+c)/2\n",
    "area=math.sqrt(S*(S-a)*(S-b)*(S-c))\n",
    "print(f\"The Area of a Triangle : {area:.2f} square units\")"
   ]
  },
  {
   "cell_type": "markdown",
   "id": "2111247b",
   "metadata": {},
   "source": [
    "2.Write a program to calculate the distance between two points"
   ]
  },
  {
   "cell_type": "code",
   "execution_count": null,
   "id": "2c8373e1",
   "metadata": {},
   "outputs": [
    {
     "name": "stdout",
     "output_type": "stream",
     "text": [
      "The Distance between two points is : 39.66 units\n"
     ]
    }
   ],
   "source": [
    "import math\n",
    "x1=float(input(\"Enter the value of x1 : \"))\n",
    "x2=float(input(\"Enter the value of x2 : \"))\n",
    "y1=float(input(\"Enter the value of y1 : \"))\n",
    "y2=float(input(\"Enter the value of y2 : \"))\n",
    "dist=math.sqrt(((x2-x1)**2)+((y2-y1)**2))\n",
    "print(f\"The Distance between two points is : {dist:.2f} units\")"
   ]
  },
  {
   "cell_type": "markdown",
   "id": "fc0d0b39",
   "metadata": {},
   "source": [
    "3.Write a program to calculate the area of a circle, rectangle, triangle, and square."
   ]
  },
  {
   "cell_type": "code",
   "execution_count": null,
   "id": "255cf3d6",
   "metadata": {},
   "outputs": [
    {
     "name": "stdout",
     "output_type": "stream",
     "text": [
      "Please Select the shapes you want to find the Area : \n",
      "1.Circle \n",
      "2.Rectangle \n",
      "3.Triangle \n",
      "4.Square\n",
      "Area of the Triangle : 2.35 square units\n"
     ]
    }
   ],
   "source": [
    "print(\"Please Select the shape you want to find the Area : \\n1.Circle \\n2.Rectangle \\n3.Triangle \\n4.Square\")\n",
    "choice=int(input(\"Enter Your Choice : \"))\n",
    "if choice==1:\n",
    "    r=float(input(\"Enter the radius : \"))\n",
    "    area=3.14*r*r\n",
    "    print(f\"Area of the Circle : {area:.2f} square units\")\n",
    "elif choice==2:\n",
    "    l=float(input(\"Enter the length : \"))\n",
    "    b=float(input(\"Enter the breadth : \"))\n",
    "    area=l*b\n",
    "    print(f\"Area of the Rectangle : {area:.2f} square units\")\n",
    "elif choice==3:\n",
    "    b_=float(input(\"Enter the base : \"))\n",
    "    h=float(input(\"Enter the height : \"))\n",
    "    area=0.5*b_*h\n",
    "    print(f\"Area of the Triangle : {area:.2f} square units\")\n",
    "elif choice==4:\n",
    "    a=float(input(\"Enter the side : \"))\n",
    "    area=a*a\n",
    "    print(f\"Area of the Square : {area:.2f} square units\")\n",
    "else:\n",
    "    print(\"Invalide Choice...\")           "
   ]
  },
  {
   "cell_type": "markdown",
   "id": "90625b32",
   "metadata": {},
   "source": [
    "4.Write a program to print the digit at one’s place of a number.\n"
   ]
  },
  {
   "cell_type": "code",
   "execution_count": null,
   "id": "31cb0be2",
   "metadata": {},
   "outputs": [
    {
     "name": "stdout",
     "output_type": "stream",
     "text": [
      "The digit at one's place of a number is : 7\n"
     ]
    }
   ],
   "source": [
    "n=int(input(\"Enter a number : \"))\n",
    "res=n%10\n",
    "print(f\"The digit at one's place of a number is : {res}\")"
   ]
  },
  {
   "cell_type": "markdown",
   "id": "ab4d5438",
   "metadata": {},
   "source": [
    "5.Write a program to calculate the total amount of money in the piggy bank, given the coins of ₹10, ₹5, ₹2, and ₹1.\n"
   ]
  },
  {
   "cell_type": "code",
   "execution_count": null,
   "id": "5c6f3d87",
   "metadata": {},
   "outputs": [
    {
     "name": "stdout",
     "output_type": "stream",
     "text": [
      "------------PIGGY BANK------------\n",
      "The Total amount of money in the Piggy Bank is 40Rs\n"
     ]
    }
   ],
   "source": [
    "print(\"------------PIGGY BANK------------\")\n",
    "a=int(input(\"Enter the number of 10Rs coins : \"))\n",
    "b=int(input(\"Enter the number of 5Rs coins : \"))\n",
    "c=int(input(\"Enter the number of 2Rs coins : \"))\n",
    "d=int(input(\"Enter the number of 1Rs coins : \"))\n",
    "tot=(a*10)+(b*5)+(c*2)+(d*1)\n",
    "print(f\"The Total amount of money in the Piggy Bank is :  {tot}Rs\")"
   ]
  },
  {
   "cell_type": "markdown",
   "id": "9de1d934",
   "metadata": {},
   "source": [
    "6.Write a program to calculate the bill amount for an item given its quantity sold, value, discount, and tax.\n"
   ]
  },
  {
   "cell_type": "code",
   "execution_count": null,
   "id": "b844a7b4",
   "metadata": {},
   "outputs": [
    {
     "name": "stdout",
     "output_type": "stream",
     "text": [
      "The final bill amount is 2948.00Rs\n"
     ]
    }
   ],
   "source": [
    "q=int(input(\"Enter the Quantity sold : \"))\n",
    "p=float(input(\"Enter the Price : \"))\n",
    "d=float(input(\"Enter the Discount percentage : \"))\n",
    "t=float(input(\"Enter the Tax percentage : \"))\n",
    "tot=q*p\n",
    "amt_dis=(d/100)*tot\n",
    "dis_price=tot-amt_dis\n",
    "tax_amt=(t/100)*dis_price\n",
    "f_bill=dis_price + tax_amt\n",
    "print(f\"The final bill amount is {f_bill:.2f}Rs\")"
   ]
  },
  {
   "cell_type": "markdown",
   "id": "061c18a5",
   "metadata": {},
   "source": [
    "7.Write a python program to calculate a household's electricity bill.\n",
    "The user should enter the number of units consumed. The charges are as follows:\n",
    "For the first 100 units: ₹1.50 per unit\n",
    "For the next 100 units (101–200): ₹2.00 per unit\n",
    "For units above 200: ₹3.00 per unit\n",
    "A fixed meter charge of ₹50 is added to the bill.\n",
    "Display the total amount to be paid with a proper bill format.\n"
   ]
  },
  {
   "cell_type": "code",
   "execution_count": null,
   "id": "b6f7b9bc",
   "metadata": {},
   "outputs": [
    {
     "name": "stdout",
     "output_type": "stream",
     "text": [
      "----------------------------------\n",
      "\tElectricity Bill\n",
      "----------------------------------\n",
      " Units Consumed  : 123 units\n",
      " Total Amount    : 296.00Rs\n"
     ]
    }
   ],
   "source": [
    "units=int(input(\"Enter the number of units consumed : \"))\n",
    "if units<0:\n",
    "    print(\"Units must be positive...\")\n",
    "elif units <=100:\n",
    "    tot=units*1.50\n",
    "elif 100< units <=200:\n",
    "    tot=units*2.00\n",
    "else:\n",
    "    tot=units*3.00\n",
    "print(\"----------------------------------\")\n",
    "print(\"\\tElectricity Bill\")\n",
    "print(\"----------------------------------\")\n",
    "print(f\" Units Consumed  : {units} units\")\n",
    "print(f\" Total Amount    : {tot+50:.2f}Rs\")"
   ]
  },
  {
   "cell_type": "markdown",
   "id": "4371a3dd",
   "metadata": {},
   "source": [
    "8.Develop a Python program that calculates an employee’s net salary. Accept input for:\n",
    "Employee name and ID\n",
    "Number of hours worked\n",
    "Hourly wage\n",
    "Calculate the gross salary and deduct 10% as tax. Display a proper salary slip with all details.\n"
   ]
  },
  {
   "cell_type": "code",
   "execution_count": null,
   "id": "aee59faa",
   "metadata": {},
   "outputs": [
    {
     "name": "stdout",
     "output_type": "stream",
     "text": [
      "-----------------------------------------\n",
      "\t\tSalary\n",
      "-----------------------------------------\n",
      " Employee Name          : Abdul\n",
      " Employee Id            : 1001\n",
      " Number of hours worked : 100 hours\n",
      " Hourly Wage            : 20Rs\n",
      " Gross Salary           : 1800.00Rs\n"
     ]
    }
   ],
   "source": [
    "emp_name=input(\"Enter Your Name : \")\n",
    "emp_id=int(input(\"Enter Your Id : \"))\n",
    "n_hrs=int(input(\"Enter the number of hours worked : \"))\n",
    "wage=int(input(\"Enter the hourly wage : \"))\n",
    "sal=n_hrs*wage\n",
    "tax=(10/100)*sal\n",
    "gross_sal=sal-tax\n",
    "print(\"-----------------------------------------\")\n",
    "print(\"\\t\\tSalary\")\n",
    "print(\"-----------------------------------------\")\n",
    "print(f\" Employee Name          : {emp_name}\")\n",
    "print(f\" Employee Id            : {emp_id}\")\n",
    "print(f\" Number of hours worked : {n_hrs} hours\")\n",
    "print(f\" Hourly Wage            : {wage}Rs\")\n",
    "print(f\" Gross Salary           : {gross_sal:.2f}Rs\")"
   ]
  },
  {
   "cell_type": "markdown",
   "id": "d9699fa6",
   "metadata": {},
   "source": [
    "9.Write a Python program to calculate the total cost of movie tickets. Accept:\n",
    "Number of tickets\n",
    "Ticket category (Silver: ₹120, Gold: ₹180, Platinum: ₹250)\n",
    "Add 18% GST to the ticket cost. Display a formatted bill.\n"
   ]
  },
  {
   "cell_type": "code",
   "execution_count": 2,
   "id": "dbf9440b",
   "metadata": {},
   "outputs": [
    {
     "name": "stdout",
     "output_type": "stream",
     "text": [
      "Ticket Category : \n",
      "'1' for Silver    - 120Rs\n",
      "'2' for Gold     - 180Rs\n",
      "'3' for Platinum - 250Rs\n",
      "\n",
      "\n",
      "--------------------------------------\n",
      "\t Cinema Ticket Bill \n",
      "--------------------------------------\n",
      " Number of Tickets  : 2\n",
      " Ticket Category    : Platinum\n",
      " Cost Before GST    : 500.00Rs\n",
      " GST(18%)           : 90.00Rs\n",
      " Total Ticket Cost  : 590.00Rs\n"
     ]
    }
   ],
   "source": [
    "print(\"Ticket Category : \")\n",
    "print(\"'1' for Silver    - 120Rs\")\n",
    "print(\"'2' for Gold     - 180Rs\")\n",
    "print(\"'3' for Platinum - 250Rs\")\n",
    "c=int(input(\"Please Select the Ticket Category : \"))\n",
    "n=int(input(\"Enter the number of tickets : \"))\n",
    "if c==1:\n",
    "    category=\"Silver\"\n",
    "    cost=n*120\n",
    "    gst=cost*0.18\n",
    "elif c==2:\n",
    "    category=\"Gold\"\n",
    "    cost=n*180\n",
    "    gst=cost*0.18\n",
    "elif c==3:\n",
    "    category=\"Platinum\"\n",
    "    cost=n*250\n",
    "    gst=cost*0.18\n",
    "else:\n",
    "    print(\"Invalid Input...\")\n",
    "print(\"\\n\")\n",
    "tot_cost=cost+gst\n",
    "if 1<=c<=3:\n",
    "    print(\"--------------------------------------\")\n",
    "    print(\"\\t Cinema Ticket Bill \")    \n",
    "    print(\"--------------------------------------\")\n",
    "    print(f\" Number of Tickets  : {n}\")\n",
    "    print(f\" Ticket Category    : {category}\")\n",
    "    print(f\" Cost Before GST    : {cost:.2f}Rs\")\n",
    "    print(f\" GST(18%)           : {gst:.2f}Rs\")\n",
    "    print(f\" Total Ticket Cost  : {tot_cost:.2f}Rs\")"
   ]
  },
  {
   "cell_type": "markdown",
   "id": "1705c313",
   "metadata": {},
   "source": [
    "10.Develop a Python program that estimates travel fare based on distance and transport mode. \n",
    "Input:\n",
    "Distance (in km)\n",
    "Mode (Bus: ₹5/km, Train: ₹2/km, Cab: ₹10/km)\n",
    "Calculate and display the total fare and estimated travel time (assuming constant speeds for each mode).\n",
    "\n"
   ]
  },
  {
   "cell_type": "code",
   "execution_count": null,
   "id": "8c6b45f6",
   "metadata": {},
   "outputs": [
    {
     "name": "stdout",
     "output_type": "stream",
     "text": [
      "Modes : \n",
      " '1' for Bus \n",
      " '2' for Train \n",
      " '3' for Cab \n",
      "\n",
      "-------------------Price Details-------------------\n",
      " Mode of Travel     : Train\n",
      " Distance Travelled : 100.89Km\n",
      " Total Fare         : 201.78Rs\n",
      " Travel Time        : 15 minutes \n"
     ]
    }
   ],
   "source": [
    "print(\"Modes : \")\n",
    "print(\" '1' for Bus \\n '2' for Train \\n '3' for Cab \")\n",
    "mode=int(input(\"Please Select the Mode     : \"))\n",
    "dist=float(input(\"Enter the distance(in Km) : \"))\n",
    "if mode==1:\n",
    "    tot_fare=5*dist\n",
    "    speed=40\n",
    "    time=(dist/speed)*60\n",
    "    m=\"Bus\"\n",
    "elif mode==2:\n",
    "    tot_fare=2*dist\n",
    "    speed=80\n",
    "    time=(dist/speed)*60\n",
    "    m=\"Train\"\n",
    "elif mode==3:\n",
    "    tot_fare=10*dist\n",
    "    speed=50\n",
    "    time=(dist/speed)*60\n",
    "    m=\"Cab\"\n",
    "else:\n",
    "    print(\"Invalid Input...\")\n",
    "print()\n",
    "if 1<=mode<=3:\n",
    "    hours=int(time//60)\n",
    "    minutes=int(time%60)\n",
    "    print(\"-------------------Price Details-------------------\")\n",
    "    print(f\" Mode of Travel     : {m}\")\n",
    "    print(f\" Distance Travelled : {dist:.2f}Km\")\n",
    "    print(f\" Total Fare         : {tot_fare:.2f}Rs\")\n",
    "    if hours>1:\n",
    "        print(f\" Travel Time        : {hours} hours and {minutes} minutes \")\n",
    "    else:\n",
    "        print(f\" Travel Time        : {minutes} minutes \")"
   ]
  }
 ],
 "metadata": {
  "kernelspec": {
   "display_name": "Python 3",
   "language": "python",
   "name": "python3"
  },
  "language_info": {
   "codemirror_mode": {
    "name": "ipython",
    "version": 3
   },
   "file_extension": ".py",
   "mimetype": "text/x-python",
   "name": "python",
   "nbconvert_exporter": "python",
   "pygments_lexer": "ipython3",
   "version": "3.13.2"
  }
 },
 "nbformat": 4,
 "nbformat_minor": 5
}
