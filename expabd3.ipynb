{
 "cells": [
  {
   "cell_type": "markdown",
   "id": "e023df48",
   "metadata": {},
   "source": [
    "1.Movie Ticket Pricing\n",
    "You're writing a function to calculate movie ticket prices based on age.\t\n",
    "Kids under 12: $5\n",
    "Seniors (60+): $6\n",
    "Everyone else: $10\n",
    "Question:\n",
    " Write a function calculate_ticket_price(age) that returns the correct ticket price.\n",
    "Sample Input:\n",
    "calculate_ticket_price(8)      # Output: 5  \n",
    "calculate_ticket_price(30)     # Output: 10  \n",
    "calculate_ticket_price(65)     # Output: 6"
   ]
  },
  {
   "cell_type": "code",
   "execution_count": 1,
   "id": "00db6221",
   "metadata": {},
   "outputs": [
    {
     "name": "stdout",
     "output_type": "stream",
     "text": [
      "Ticket Price for Others - $10\n"
     ]
    }
   ],
   "source": [
    "def calculate_ticket_price(age):\n",
    "    if age<0:\n",
    "       return \"Age cannot be negative\"\n",
    "    elif age<=12:\n",
    "        return \"Ticket Price for Kids - $5\"\n",
    "    elif age>=60:\n",
    "        return \"Ticket Price for Seniors - $6\"\n",
    "    else:\n",
    "        return \"Ticket Price for Others - $10\"\n",
    "age=int(input(\"Enter your Age : \"))\n",
    "print(calculate_ticket_price(age))"
   ]
  },
  {
   "cell_type": "markdown",
   "id": "ec2b8af8",
   "metadata": {},
   "source": [
    "2.You’re building a weather app and need a function to convert temperatures from Celsius to Fahrenheit\n",
    "Question:\n",
    " Write a function celsius_to_fahrenheit(celsius) that returns the Fahrenheit equivalent.\n",
    "Sample Input:\n",
    "celsius_to_fahrenheit(0)       # Output: 32.0  \n",
    "celsius_to_fahrenheit(37)      # Output: 98.6\n"
   ]
  },
  {
   "cell_type": "code",
   "execution_count": 6,
   "id": "0714a9e2",
   "metadata": {},
   "outputs": [
    {
     "name": "stdout",
     "output_type": "stream",
     "text": [
      "Celsius\t\tFahrenheit\n",
      "---------------------------\n",
      " 2\t\t35.60\n"
     ]
    }
   ],
   "source": [
    "def celsius_to_fahrenheit(celsius):\n",
    "    fahrenheit=(celsius*(9/5))+32\n",
    "    return fahrenheit\n",
    "celsius=int(input(\"Enter Celsius : \"))\n",
    "print(\"Celsius\\t\\tFahrenheit\")\n",
    "print(\"---------------------------\")\n",
    "print(f\" {celsius}\\t\\t{celsius_to_fahrenheit(celsius):.2f}\")"
   ]
  },
  {
   "cell_type": "markdown",
   "id": "1afb4379",
   "metadata": {},
   "source": [
    "3.You're creating a grading system. Given a score (0–100), return a letter grade:\t\n",
    "A: 90+\t\n",
    "B: 80–89\t\n",
    "C: 70–79\n",
    "D: 60–69\n",
    "F: below 60\n",
    "Question:\n",
    " Write a function get_grade(score) that returns the letter grade.\n",
    "Sample Input:\n",
    "get_grade(85)        # Output: \"B\"  \n",
    "get_grade(59)        # Output: \"F\n"
   ]
  },
  {
   "cell_type": "code",
   "execution_count": 10,
   "id": "795741c1",
   "metadata": {},
   "outputs": [
    {
     "name": "stdout",
     "output_type": "stream",
     "text": [
      " Grade : F\n"
     ]
    }
   ],
   "source": [
    "def get_grade(score):\n",
    "    if score>=90:\n",
    "        return \"A\"\n",
    "    elif 80<=score<=89:\n",
    "        return \"B\"\n",
    "    elif 70<=score<=79:\n",
    "        return \"C\"\n",
    "    elif 60<=score<=69:\n",
    "        return \"D\"\n",
    "    else:\n",
    "        return \"F\"\n",
    "score=int(input(\" Enter Your Score : \"))\n",
    "print(f\" Grade : {get_grade(score)}\")"
   ]
  },
  {
   "cell_type": "markdown",
   "id": "17be9345",
   "metadata": {},
   "source": [
    "4.In a text editing app, users want a function that takes a sentence and reverses each word, keeping the word order the same.\n",
    "Question:\n",
    "\t Write a function reverse_words(sentence) that reverses the characters of each word.\n",
    "Sample Input:\n",
    "reverse_words(\"hello world\")    # Output: \"olleh dlrow\"  \n",
    "reverse_words(\"python is fun\")  # Output: \"nohtyp si nuf\"\n"
   ]
  },
  {
   "cell_type": "code",
   "execution_count": 25,
   "id": "b4e030d6",
   "metadata": {},
   "outputs": [
    {
     "name": "stdout",
     "output_type": "stream",
     "text": [
      "Reversed Sentence : ludba\n"
     ]
    }
   ],
   "source": [
    "def reversed_words(sentence):\n",
    "    words=sentence.split()\n",
    "    a=[j[::-1]for j in words]   \n",
    "    b=\" \".join(a)\n",
    "    return b\n",
    "sentence=input(\"Enter a Sentence : \")\n",
    "print(f\"Reversed Sentence : {reversed_words(sentence)}\")  "
   ]
  },
  {
   "cell_type": "markdown",
   "id": "346aa11f",
   "metadata": {},
   "source": [
    "5.Shipping Cost Calculator :A  company charges shipping based on weight:\n",
    "Up to 2kg: $5\n",
    "2–5kg: $10\n",
    "5kg and above: $15\n",
    "Question:\n",
    "Write a function calculate_shipping(weight) that returns the shipping cost.\n",
    "Sample Input:\n",
    "calculate_shipping(1.5)     # Output: 5  \n",
    "calculate_shipping(3.2)     # Output: 10  \n",
    "calculate_shipping(7.0)     # Output: 15\n"
   ]
  },
  {
   "cell_type": "code",
   "execution_count": 18,
   "id": "7f2f07a9",
   "metadata": {},
   "outputs": [
    {
     "name": "stdout",
     "output_type": "stream",
     "text": [
      " Shipping Cost : $15\n"
     ]
    }
   ],
   "source": [
    "def calculate_shipping(weight):\n",
    "    if weight<0:\n",
    "        return \"Weight cannot be Negative!\"\n",
    "    elif weight<2:\n",
    "        return \"$5\"\n",
    "    elif weight<5:\n",
    "        return \"$10\"\n",
    "    else:\n",
    "        return \"$15\"\n",
    "weight=float(input(\" Enter the Weight : \"))\n",
    "print(f\" Shipping Cost : {calculate_shipping(weight)}\")"
   ]
  },
  {
   "cell_type": "markdown",
   "id": "d2684868",
   "metadata": {},
   "source": [
    "6.Password Strength Checker\n",
    "Scenario: You're building a signup form. The password must be at least 8 characters long and contain at least one uppercase letter, one lowercase letter, and one digit.\n",
    "Question:\n",
    "Write a function is_strong_password(password) that returns True if the password is strong, otherwise False.\n",
    "Sample Input:\n",
    "is_strong_password(\"Password123\")     # Output: True"
   ]
  },
  {
   "cell_type": "code",
   "execution_count": 6,
   "id": "ffa2ed86",
   "metadata": {},
   "outputs": [
    {
     "name": "stdout",
     "output_type": "stream",
     "text": [
      "True\n"
     ]
    }
   ],
   "source": [
    "def is_strong_password(password):\n",
    "    if len(password)<8:\n",
    "        return False\n",
    "    else:\n",
    "        upper=False\n",
    "        lower=False\n",
    "        digit=False\n",
    "        for i in password:\n",
    "            if i.isupper():\n",
    "                upper=True\n",
    "            elif i.islower():\n",
    "                lower=True\n",
    "            elif i.isdigit():\n",
    "                digit=True\n",
    "        if upper==True and lower==True and digit==True:\n",
    "            return True\n",
    "        else:\n",
    "            return False        \n",
    "password=input(\" Enter a Strong Password : \")\n",
    "print(is_strong_password(password))"
   ]
  }
 ],
 "metadata": {
  "kernelspec": {
   "display_name": "Python 3",
   "language": "python",
   "name": "python3"
  },
  "language_info": {
   "codemirror_mode": {
    "name": "ipython",
    "version": 3
   },
   "file_extension": ".py",
   "mimetype": "text/x-python",
   "name": "python",
   "nbconvert_exporter": "python",
   "pygments_lexer": "ipython3",
   "version": "3.13.2"
  }
 },
 "nbformat": 4,
 "nbformat_minor": 5
}
